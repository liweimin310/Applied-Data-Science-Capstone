{
 "cells": [
  {
   "cell_type": "markdown",
   "id": "32e47a87",
   "metadata": {},
   "source": [
    "## Build a Dashboard Application with Plotly Dash"
   ]
  },
  {
   "cell_type": "markdown",
   "id": "96539d75",
   "metadata": {},
   "source": [
    "In this lab, you will be building a Plotly Dash application for users to perform interactive visual analytics on SpaceX launch data in real-time.\n",
    "\n",
    "This dashboard application contains input components such as a dropdown list and a range slider to interact with a pie chart and a scatter point chart. You will be guided to build this dashboard application via the following tasks:\n",
    "\n",
    "TASK 1: Add a Launch Site Drop-down Input Component\n",
    "\n",
    "TASK 2: Add a callback function to render success-pie-chart based on selected site dropdown\n",
    "\n",
    "TASK 3: Add a Range Slider to Select Payload\n",
    "\n",
    "TASK 4: Add a callback function to render the success-payload-scatter-chart scatter plot\n",
    "\n",
    "Your completed dashboard application should look like the following screenshot:\n",
    "\n",
    "\n",
    "\n",
    "After visual analysis using the dashboard, you should be able to obtain some insights to answer the following five questions:\n",
    "\n",
    "Which site has the largest successful launches?\n",
    "\n",
    "Which site has the highest launch success rate?\n",
    "\n",
    "Which payload range(s) has the highest launch success rate?\n",
    "\n",
    "Which payload range(s) has the lowest launch success rate?\n",
    "\n",
    "Which F9 Booster version (v1.0, v1.1, FT, B4, B5, etc.) has the highest\\ launch success rate?\n",
    "\n",
    "Estimated time needed: 90 minutes\n"
   ]
  },
  {
   "cell_type": "markdown",
   "id": "aebd9b00",
   "metadata": {},
   "source": [
    "##### Important Notice about this lab environment"
   ]
  },
  {
   "cell_type": "code",
   "execution_count": 1,
   "id": "4daf4086",
   "metadata": {},
   "outputs": [],
   "source": [
    "# Import required libraries\n",
    "import pandas as pd\n",
    "import plotly.express as px\n",
    "import plotly.graph_objects as go\n",
    "import dash\n",
    "import dash_html_components as html\n",
    "import dash_core_components as dcc\n",
    "from dash.dependencies import Input, Output\n",
    "from jupyter_dash import JupyterDash"
   ]
  },
  {
   "cell_type": "code",
   "execution_count": 2,
   "id": "24daecb3",
   "metadata": {},
   "outputs": [],
   "source": [
    "airline_data =  pd.read_csv('C:/Users/wli161606/OneDrive - Applied Materials/Desktop/Algorithm/Python/10. Data Science capstone/spacex_launch_dash.csv', \n",
    "                            encoding = \"ISO-8859-1\",\n",
    "                            dtype={'Div1Airport': str, 'Div1TailNum': str, \n",
    "                                   'Div2Airport': str, 'Div2TailNum': str})"
   ]
  },
  {
   "cell_type": "code",
   "execution_count": 3,
   "id": "3e50d2e2",
   "metadata": {},
   "outputs": [
    {
     "name": "stdout",
     "output_type": "stream",
     "text": [
      "0.0 9600.0\n"
     ]
    }
   ],
   "source": [
    "min_payload=airline_data['Payload Mass (kg)'].min()\n",
    "max_payload=airline_data['Payload Mass (kg)'].max()\n",
    "print(min_payload,max_payload)"
   ]
  },
  {
   "cell_type": "code",
   "execution_count": null,
   "id": "33ae75b7",
   "metadata": {
    "scrolled": true
   },
   "outputs": [],
   "source": [
    "# Create a dash application\n",
    "# app = JupyterDash(__name__)\n",
    "# JupyterDash.infer_jupyter_proxy_config()\n",
    "\n",
    "# Create a dash application\n",
    "app = dash.Dash(__name__)\n",
    "\n",
    "# Build dash app layout\n",
    "app.layout = html.Div(children=[html.H1('SpaceX Launch Records Dashboard', \n",
    "                                style={'textAlign': 'center', 'color': '#503D36',\n",
    "                                'font-size': 30}),\n",
    "                                dcc.Dropdown(id='site_dropdown',\n",
    "                                             options=[\n",
    "                                                 {'label': 'CCAFS LC-40', 'value':'CCAFS LC-40'},\n",
    "                                                 {'label': 'CCAFS SLC-40','value':'CCAFS SLC-40'},\n",
    "                                                 {'label': 'CCAFSSLC-40','value':'CCAFSSLC-40'},\n",
    "                                                 {'label': 'KSC LC-39A','value':'KSC LC-39A'},\n",
    "                                                 {'label': 'VAFB SLC-4E','value':'VAFB SLC-4E'},\n",
    "                                                 {'label': 'ALL','value':'ALL'}],\n",
    "                                            value=['ALL'],\n",
    "                                            placeholder='Select a Launch Site here', \n",
    "                                            searchable=True),      \n",
    "                                html.Br(),\n",
    "                                html.Div(dcc.Graph(id='success-pie-chart')),\n",
    "                                \n",
    "                                html.Br(),\n",
    "                                html.P(\"Payload range (Kg):\"),\n",
    "                                dcc.RangeSlider(id='payload-slider',min=0, max=10000,step=1000, value=[2000,8000]),\n",
    "                                html.Div(dcc.Graph(id='success-payload-scatter-chart'))\n",
    "                                ])\n",
    "\n",
    "    \n",
    "@app.callback(\n",
    "    Output(component_id='success-pie-chart',component_property='figure'),\n",
    "    [Input(component_id='site_dropdown', component_property='value')],\n",
    "    prevent_initial_call=True)\n",
    "\n",
    "\n",
    "def update_pie(selected_site):\n",
    "    \n",
    "    if selected_site in ['CCAFS LC-40','CCAFS SLC-40','CCAFSSLC-40','KSC LC-39A','VAFB SLC-4E']:\n",
    "        df_pie = airline_data[airline_data['Launch Site']==selected_site]\n",
    "        fig_pie=px.pie(df_pie,names='class', title='success-pie-chart')\n",
    "        fig_pie.update_layout()\n",
    "        return fig_pie\n",
    "    \n",
    "    elif selected_site in ['ALL']:\n",
    "        fig_pie=px.pie(airline_data,values='class',names='Launch Site', title='success-pie-chart')\n",
    "        fig_pie.update_layout()\n",
    "        return fig_pie\n",
    "#-----------------------------------------------------------------------------------------------------    \n",
    "@app.callback(\n",
    "    Output(component_id='success-payload-scatter-chart',component_property='figure'),\n",
    "    [Input(component_id='payload-slider', component_property='value'),\n",
    "    Input(component_id='site_dropdown', component_property='value')],\n",
    "    prevent_initial_call=True)\n",
    "\n",
    "\n",
    "def update_scatter(selected_payload,selected_site): \n",
    "    if selected_site in ['CCAFS LC-40','CCAFS SLC-40','CCAFSSLC-40','KSC LC-39A','VAFB SLC-4E']:\n",
    "        df = airline_data[airline_data['Launch Site']==selected_site]\n",
    "        df_slider=df[(df['Payload Mass (kg)']<=selected_payload[1]) &(df['Payload Mass (kg)']>=selected_payload[0])]\n",
    "        fig_scatter=px.scatter(df_slider,x='Payload Mass (kg)',y='class', title='success-payload-scatter-chart',color='Booster Version Category')\n",
    "        fig_scatter.update_layout()\n",
    "        return fig_scatter\n",
    "    \n",
    "    elif selected_site in ['ALL']:\n",
    "        df_slider=airline_data[(airline_data['Payload Mass (kg)']<=selected_payload[1]) &(airline_data['Payload Mass (kg)']>=selected_payload[0])]\n",
    "        fig_scatter=px.scatter(df_slider,x='Payload Mass (kg)',y='class', title='success-payload-scatter-chart',color='Booster Version Category')\n",
    "        fig_scatter.update_layout()\n",
    "        return fig_scatter\n",
    "    \n",
    "# Run the app\n",
    "if __name__ == '__main__':\n",
    "    app.run_server()    \n",
    "\n",
    "#------------------------------------------------------------------------------------------------------------------#\n",
    "# def run_server(self,\n",
    "#                port=8050,\n",
    "#                debug=True,\n",
    "#                threaded=True,\n",
    "#                **flask_run_options):\n",
    "#     self.server.run(port=port, debug=debug, **flask_run_options)\n",
    "\n",
    "# if __name__ == '__main__':\n",
    "#     app.run_server(mode=\"inline\", host=\"localhost\", debug=True, port=8050) # or whatever you choose"
   ]
  },
  {
   "cell_type": "code",
   "execution_count": null,
   "id": "f570489c",
   "metadata": {},
   "outputs": [],
   "source": []
  }
 ],
 "metadata": {
  "kernelspec": {
   "display_name": "Python 3",
   "language": "python",
   "name": "python3"
  },
  "language_info": {
   "codemirror_mode": {
    "name": "ipython",
    "version": 3
   },
   "file_extension": ".py",
   "mimetype": "text/x-python",
   "name": "python",
   "nbconvert_exporter": "python",
   "pygments_lexer": "ipython3",
   "version": "3.8.8"
  }
 },
 "nbformat": 4,
 "nbformat_minor": 5
}
